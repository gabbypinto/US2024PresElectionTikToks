{
 "cells": [
  {
   "cell_type": "markdown",
   "id": "50f8df61-a345-4588-aacd-d2b4bb9c7673",
   "metadata": {},
   "source": [
    "## Most common query phrases used in the video_description - based on the keywords.txt files. video_description is the caption\n"
   ]
  },
  {
   "cell_type": "code",
   "execution_count": 4,
   "id": "2c864fa9-1f0a-4ff4-880a-805561e3782c",
   "metadata": {},
   "outputs": [],
   "source": [
    "import pandas as pd\n",
    "import os \n",
    "import json \n",
    "from plotnine import ggplot, aes, element_blank,element_rect,geom_bar, theme, element_text, coord_flip,labs\n",
    "import pandas as pd\n"
   ]
  },
  {
   "cell_type": "code",
   "execution_count": 2,
   "id": "ad9ed215-25de-4290-b373-93f5b9b2263d",
   "metadata": {},
   "outputs": [],
   "source": [
    "#read the FINALIZED metadata file\n",
    "filePathMetadata=\"\" #path to the full metadata file\n",
    "df = pd.read_csv(filePathMetadata)\n",
    "print(f\"Number of metadata/videos: {len(df)}\")"
   ]
  },
  {
   "cell_type": "code",
   "execution_count": null,
   "id": "baea59e1-741f-4bda-927a-e38b920c4a75",
   "metadata": {},
   "outputs": [],
   "source": [
    "keywordsTextFile=\"\" #path to the most recent phase no. (text) file\n",
    "with open (keywordsTextFile,'r') as file:\n",
    "    lines = [line.strip() for line in file if line.strip()]\n",
    "        \n",
    "# print(lines)"
   ]
  },
  {
   "cell_type": "code",
   "execution_count": null,
   "id": "e0f42cb9-708c-4d44-9847-f9b6a23fddc6",
   "metadata": {},
   "outputs": [],
   "source": [
    "captions = df['video_description'].tolist()\n",
    "\n",
    "\n",
    "\"\"\"\n",
    "Visualize the top 20 phrases\n",
    "\"\"\"\n",
    "def plot_top_phrases(phrase_counts, top_n=20,output_file='top_phrases.png'):\n",
    "    # Convert the dictionary to a DataFrame\n",
    "    df = pd.DataFrame(list(phrase_counts.items()), columns=['Phrase', 'Count'])\n",
    "    \n",
    "    # Sort the DataFrame by 'Count' in descending order\n",
    "    df = df.sort_values(by='Count', ascending=False)\n",
    "    \n",
    "    # Select the top N phrases\n",
    "    df_top = df.head(top_n)\n",
    "    \n",
    "    # Create a bar plot\n",
    "    p = (\n",
    "        ggplot(df_top, aes(x='reorder(Phrase, Count)', y='Count')) +\n",
    "        geom_bar(stat='identity') +\n",
    "        coord_flip() +\n",
    "        theme(\n",
    "            axis_text_x=element_text(rotation=45, hjust=1),\n",
    "            panel_background=element_rect(fill='white'),\n",
    "            plot_background=element_rect(fill='white'),\n",
    "            panel_grid_major=element_blank(),  # Remove major grid lines\n",
    "            panel_grid_minor=element_blank()   # Remove minor grid lines\n",
    "        ) +\n",
    "        labs(title='', x='Phrase', y='Count')\n",
    "    )\n",
    "    \n",
    "    # return p\n",
    "    p.save(output_file, dpi=300)\n",
    "    print(f\"Plot saved as {output_file}\")\n",
    "    print(p)\n",
    "\n",
    "\"\"\"\n",
    "Save dictionary to JSON \n",
    "\"\"\"\n",
    "def save_dict_to_file(dictionary, filename):\n",
    "    with open(filename, 'w') as file:\n",
    "        json.dump(dictionary, file)\n",
    "\n",
    "\"\"\"\n",
    "Read dictionary from JSON\n",
    "\"\"\"\n",
    "def read_dict_from_file(filename):\n",
    "    with open(filename, 'r') as file:\n",
    "        return json.load(file)\n",
    "\n",
    "\n",
    "\"\"\"\n",
    "Arg: list of type str, list of type phrases\n",
    "Return: dict\n",
    "\"\"\"\n",
    "def count_phrases(sentences, phrases):\n",
    "    # Initialize a dictionary to store the counts\n",
    "    phrase_counts = {phrase: 0 for phrase in phrases}\n",
    "    \n",
    "    # Iterate over each sentence\n",
    "    for sentence in sentences:\n",
    "        if isinstance(sentence, str):\n",
    "            # Check each phrase in the list\n",
    "            for phrase in phrases:\n",
    "                # Increment the count if the phrase is found in the sentence\n",
    "                if phrase in sentence:\n",
    "                    phrase_counts[phrase] += 1\n",
    "    \n",
    "    return phrase_counts\n",
    "\n",
    "result = count_phrases(captions, lines)\n",
    "\n",
    "#Print the common phrases shown within the video description\n",
    "for phrase, count in result.items():\n",
    "    if count > 0:\n",
    "        print(f\"{phrase}: {count}\")\n",
    "\n",
    "#save the dictionary to json (optional)\n",
    "save_dict_to_file(result, 'phrase_counts.json')\n",
    "\n",
    "#read the dictionary from the recently created json file (optional)\n",
    "loaded_result = read_dict_from_file('phrase_counts.json')\n"
   ]
  }
 ],
 "metadata": {
  "kernelspec": {
   "display_name": "Python 3 (ipykernel)",
   "language": "python",
   "name": "python3"
  },
  "language_info": {
   "codemirror_mode": {
    "name": "ipython",
    "version": 3
   },
   "file_extension": ".py",
   "mimetype": "text/x-python",
   "name": "python",
   "nbconvert_exporter": "python",
   "pygments_lexer": "ipython3",
   "version": "3.11.9"
  }
 },
 "nbformat": 4,
 "nbformat_minor": 5
}
